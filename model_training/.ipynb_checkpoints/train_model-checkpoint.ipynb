{
 "cells": [
  {
   "cell_type": "code",
   "execution_count": null,
   "metadata": {},
   "outputs": [],
   "source": [
    "import pandas as pd\n",
    "from sklearn.ensemble import RandomForestClassifier\n",
    "import joblib\n",
    "df = pd.read_csv('../dataset/fire_data.csv')\n",
    "X = pd.get_dummies(df.drop(columns='label'))\n",
    "y = df['label']\n",
    "clf = RandomForestClassifier()\n",
    "clf.fit(X, y)\n",
    "joblib.dump(clf, '../backend/model/fire_predictor.pkl')"
   ]
  }
 ],
 "metadata": {
  "kernelspec": {
   "display_name": "Python 3",
   "language": "python",
   "name": "python3"
  },
  "language_info": {
   "name": "python",
   "version": "3.10.10"
  }
 },
 "nbformat": 4,
 "nbformat_minor": 2
}
