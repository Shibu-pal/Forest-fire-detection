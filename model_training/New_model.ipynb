{
 "cells": [
  {
   "cell_type": "code",
   "execution_count": null,
   "id": "ba5b37ad-1994-45ba-8f5c-3368d56919c5",
   "metadata": {},
   "outputs": [],
   "source": [
    "import pandas as pd\n",
    "import matplotlib.pyplot as plt\n",
    "import seaborn as sns\n",
    "import os\n",
    "import joblib\n",
    "from sklearn.model_selection import train_test_split\n",
    "from sklearn.ensemble import RandomForestClassifier \n",
    "from sklearn.metrics import classification_report, confusion_matrix, accuracy_score, precision_score, recall_score, f1_score"
   ]
  },
  {
   "cell_type": "code",
   "execution_count": 7,
   "id": "d921002a-2d69-43da-a9f2-ac2316aa09d4",
   "metadata": {},
   "outputs": [],
   "source": [
    "df = pd.read_csv('../dataset/forest_fire_dataset_1000.csv')"
   ]
  },
  {
   "cell_type": "code",
   "execution_count": 8,
   "id": "9fa2c533-02b5-4db6-9b7a-8e014ecb9ff8",
   "metadata": {},
   "outputs": [
    {
     "name": "stdout",
     "output_type": "stream",
     "text": [
      "   temperature  humidity  wind_speed vegetation_type  elevation  label\n",
      "0         31.6      34.6        12.8          bamboo        340      0\n",
      "1         30.7      71.2         6.7           mixed        109      1\n",
      "2         41.9      59.4         7.2      coniferous        186      0\n",
      "3         44.7      10.6        23.6       grassland        261      1\n",
      "4         38.7      28.1         4.2          bamboo        107      0\n"
     ]
    }
   ],
   "source": [
    "print(df.head())"
   ]
  },
  {
   "cell_type": "code",
   "execution_count": 9,
   "id": "7cc21043-e249-488b-a5ab-14ae23590b7f",
   "metadata": {},
   "outputs": [
    {
     "name": "stdout",
     "output_type": "stream",
     "text": [
      "<class 'pandas.core.frame.DataFrame'>\n",
      "RangeIndex: 1000 entries, 0 to 999\n",
      "Data columns (total 6 columns):\n",
      " #   Column           Non-Null Count  Dtype  \n",
      "---  ------           --------------  -----  \n",
      " 0   temperature      1000 non-null   float64\n",
      " 1   humidity         1000 non-null   float64\n",
      " 2   wind_speed       1000 non-null   float64\n",
      " 3   vegetation_type  1000 non-null   object \n",
      " 4   elevation        1000 non-null   int64  \n",
      " 5   label            1000 non-null   int64  \n",
      "dtypes: float64(3), int64(2), object(1)\n",
      "memory usage: 47.0+ KB\n",
      "None\n"
     ]
    }
   ],
   "source": [
    "print(df.info())"
   ]
  },
  {
   "cell_type": "code",
   "execution_count": 10,
   "id": "d42f8f3a-c59d-451b-9d5d-8bd453551c2e",
   "metadata": {},
   "outputs": [
    {
     "name": "stdout",
     "output_type": "stream",
     "text": [
      "       temperature     humidity   wind_speed    elevation        label\n",
      "count  1000.000000  1000.000000  1000.000000  1000.000000  1000.000000\n",
      "mean     32.627700    44.808000    13.081900   251.726000     0.259000\n",
      "std       7.056621    19.761783     6.918315    86.643742     0.438305\n",
      "min      20.000000    10.000000     1.000000   100.000000     0.000000\n",
      "25%      26.800000    27.350000     7.000000   176.000000     0.000000\n",
      "50%      32.700000    44.250000    13.300000   252.000000     0.000000\n",
      "75%      38.600000    61.400000    18.800000   327.000000     1.000000\n",
      "max      44.900000    80.000000    25.000000   400.000000     1.000000\n"
     ]
    }
   ],
   "source": [
    "print(df.describe())"
   ]
  },
  {
   "cell_type": "code",
   "execution_count": 11,
   "id": "5c803dfb-dcfd-4bd9-9ed4-152fa82569e5",
   "metadata": {},
   "outputs": [],
   "source": [
    "df_encoded = pd.get_dummies(df)"
   ]
  },
  {
   "cell_type": "code",
   "execution_count": 12,
   "id": "9a016150-15eb-4694-9aa8-2791d25cad9a",
   "metadata": {},
   "outputs": [
    {
     "data": {
      "text/html": [
       "<div>\n",
       "<style scoped>\n",
       "    .dataframe tbody tr th:only-of-type {\n",
       "        vertical-align: middle;\n",
       "    }\n",
       "\n",
       "    .dataframe tbody tr th {\n",
       "        vertical-align: top;\n",
       "    }\n",
       "\n",
       "    .dataframe thead th {\n",
       "        text-align: right;\n",
       "    }\n",
       "</style>\n",
       "<table border=\"1\" class=\"dataframe\">\n",
       "  <thead>\n",
       "    <tr style=\"text-align: right;\">\n",
       "      <th></th>\n",
       "      <th>temperature</th>\n",
       "      <th>humidity</th>\n",
       "      <th>wind_speed</th>\n",
       "      <th>elevation</th>\n",
       "      <th>label</th>\n",
       "      <th>vegetation_type_bamboo</th>\n",
       "      <th>vegetation_type_coniferous</th>\n",
       "      <th>vegetation_type_deciduous</th>\n",
       "      <th>vegetation_type_grassland</th>\n",
       "      <th>vegetation_type_mixed</th>\n",
       "    </tr>\n",
       "  </thead>\n",
       "  <tbody>\n",
       "    <tr>\n",
       "      <th>0</th>\n",
       "      <td>31.6</td>\n",
       "      <td>34.6</td>\n",
       "      <td>12.8</td>\n",
       "      <td>340</td>\n",
       "      <td>0</td>\n",
       "      <td>True</td>\n",
       "      <td>False</td>\n",
       "      <td>False</td>\n",
       "      <td>False</td>\n",
       "      <td>False</td>\n",
       "    </tr>\n",
       "    <tr>\n",
       "      <th>1</th>\n",
       "      <td>30.7</td>\n",
       "      <td>71.2</td>\n",
       "      <td>6.7</td>\n",
       "      <td>109</td>\n",
       "      <td>1</td>\n",
       "      <td>False</td>\n",
       "      <td>False</td>\n",
       "      <td>False</td>\n",
       "      <td>False</td>\n",
       "      <td>True</td>\n",
       "    </tr>\n",
       "    <tr>\n",
       "      <th>2</th>\n",
       "      <td>41.9</td>\n",
       "      <td>59.4</td>\n",
       "      <td>7.2</td>\n",
       "      <td>186</td>\n",
       "      <td>0</td>\n",
       "      <td>False</td>\n",
       "      <td>True</td>\n",
       "      <td>False</td>\n",
       "      <td>False</td>\n",
       "      <td>False</td>\n",
       "    </tr>\n",
       "    <tr>\n",
       "      <th>3</th>\n",
       "      <td>44.7</td>\n",
       "      <td>10.6</td>\n",
       "      <td>23.6</td>\n",
       "      <td>261</td>\n",
       "      <td>1</td>\n",
       "      <td>False</td>\n",
       "      <td>False</td>\n",
       "      <td>False</td>\n",
       "      <td>True</td>\n",
       "      <td>False</td>\n",
       "    </tr>\n",
       "    <tr>\n",
       "      <th>4</th>\n",
       "      <td>38.7</td>\n",
       "      <td>28.1</td>\n",
       "      <td>4.2</td>\n",
       "      <td>107</td>\n",
       "      <td>0</td>\n",
       "      <td>True</td>\n",
       "      <td>False</td>\n",
       "      <td>False</td>\n",
       "      <td>False</td>\n",
       "      <td>False</td>\n",
       "    </tr>\n",
       "  </tbody>\n",
       "</table>\n",
       "</div>"
      ],
      "text/plain": [
       "   temperature  humidity  wind_speed  elevation  label  \\\n",
       "0         31.6      34.6        12.8        340      0   \n",
       "1         30.7      71.2         6.7        109      1   \n",
       "2         41.9      59.4         7.2        186      0   \n",
       "3         44.7      10.6        23.6        261      1   \n",
       "4         38.7      28.1         4.2        107      0   \n",
       "\n",
       "   vegetation_type_bamboo  vegetation_type_coniferous  \\\n",
       "0                    True                       False   \n",
       "1                   False                       False   \n",
       "2                   False                        True   \n",
       "3                   False                       False   \n",
       "4                    True                       False   \n",
       "\n",
       "   vegetation_type_deciduous  vegetation_type_grassland  vegetation_type_mixed  \n",
       "0                      False                      False                  False  \n",
       "1                      False                      False                   True  \n",
       "2                      False                      False                  False  \n",
       "3                      False                       True                  False  \n",
       "4                      False                      False                  False  "
      ]
     },
     "execution_count": 12,
     "metadata": {},
     "output_type": "execute_result"
    }
   ],
   "source": [
    "df_encoded.head()"
   ]
  },
  {
   "cell_type": "code",
   "execution_count": null,
   "id": "a64ea038-c781-4fd0-b17f-293a96aee7ae",
   "metadata": {},
   "outputs": [],
   "source": [
    "X = df_encoded.drop(\"label\", axis=1)\n",
    "y = df_encoded[\"label\"]\n",
    "X_train, X_test, y_train, y_test = train_test_split(X, y, test_size=0.2, random_state=42)\n",
    "model = RandomForestClassifier(n_estimators=100, random_state=42)\n",
    "model.fit(X, y)\n",
    "y_pred = model.predict(X_test)"
   ]
  },
  {
   "cell_type": "code",
   "execution_count": null,
   "id": "5d84f234-c65c-47c2-9e80-da198012ec85",
   "metadata": {},
   "outputs": [
    {
     "name": "stdout",
     "output_type": "stream",
     "text": [
      "Accuracy: 1.0\n",
      "\n",
      "Classification Report:\n",
      "               precision    recall  f1-score   support\n",
      "\n",
      "           0       1.00      1.00      1.00       148\n",
      "           1       1.00      1.00      1.00        52\n",
      "\n",
      "    accuracy                           1.00       200\n",
      "   macro avg       1.00      1.00      1.00       200\n",
      "weighted avg       1.00      1.00      1.00       200\n",
      "\n",
      "\n",
      "Confusion Matrix:\n",
      " [[148   0]\n",
      " [  0  52]]\n"
     ]
    }
   ],
   "source": [
    "print(\"Accuracy:\", accuracy_score(y_test, y_pred))\n",
    "print(\"\\nClassification Report:\\n\", classification_report(y_test, y_pred))"
   ]
  },
  {
   "cell_type": "code",
   "execution_count": 15,
   "id": "64946bcf-03a2-4311-9f1a-64d46412e7b4",
   "metadata": {},
   "outputs": [
    {
     "data": {
      "image/png": "[encoded data removed]",
      "text/plain": [
       "<Figure size 640x480 with 2 Axes>"
      ]
     },
     "metadata": {},
     "output_type": "display_data"
    }
   ],
   "source": [
    "sns.heatmap(cf,annot=True)\n",
    "plt.show()"
   ]
  },
  {
   "cell_type": "code",
   "execution_count": 21,
   "id": "4c329d7b-2650-40da-bb00-0384a3e10424",
   "metadata": {},
   "outputs": [],
   "source": [
    "save_path = '../backend/model/fire_predictor.pkl'\n",
    "os.makedirs(os.path.dirname(save_path), exist_ok=True)"
   ]
  },
  {
   "cell_type": "code",
   "execution_count": null,
   "id": "32c2d31b-7078-414a-830d-8b7e1126c90c",
   "metadata": {},
   "outputs": [
    {
     "ename": "",
     "evalue": "",
     "output_type": "error",
     "traceback": [
      "\u001b[1;31mRunning cells with 'Python 3.10.10' requires the ipykernel package.\n",
      "\u001b[1;31m<a href='command:jupyter.createPythonEnvAndSelectController'>Create a Python Environment</a> with the required packages.\n",
      "\u001b[1;31mOr install 'ipykernel' using the command: 'c:/Users/HP/AppData/Local/Programs/Python/Python310/python.exe -m pip install ipykernel -U --user --force-reinstall'"
     ]
    }
   ],
   "source": [
    "joblib.dump(model, save_path)"
   ]
  },
  {
   "cell_type": "code",
   "execution_count": null,
   "id": "90908ec7-7ce5-4bc3-972f-9035a2777782",
   "metadata": {},
   "outputs": [],
   "source": [
    "feature_columns_path = '../backend/model/feature_columns.pkl'\n",
    "joblib.dump(list(X.columns), feature_columns_path)"
   ]
  },
  {
   "cell_type": "code",
   "execution_count": null,
   "id": "6d4a915b-6aa2-43d0-8504-9c7045c8c9fc",
   "metadata": {},
   "outputs": [],
   "source": []
  }
 ],
 "metadata": {
  "kernelspec": {
   "display_name": "Python 3",
   "language": "python",
   "name": "python3"
  },
  "language_info": {
   "codemirror_mode": {
    "name": "ipython",
    "version": 3
   },
   "file_extension": ".py",
   "mimetype": "text/x-python",
   "name": "python",
   "nbconvert_exporter": "python",
   "pygments_lexer": "ipython3",
   "version": "3.10.10"
  }
 },
 "nbformat": 4,
 "nbformat_minor": 5
}
